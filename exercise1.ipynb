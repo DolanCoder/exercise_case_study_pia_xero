{
 "cells": [
  {
   "cell_type": "code",
   "execution_count": 1,
   "metadata": {},
   "outputs": [],
   "source": [
    "from pandasql import sqldf, load_meat, load_births\n",
    "import pandas as pd"
   ]
  },
  {
   "cell_type": "code",
   "execution_count": 2,
   "metadata": {},
   "outputs": [],
   "source": [
    "pysqldf = lambda q: sqldf(q, globals())"
   ]
  },
  {
   "cell_type": "code",
   "execution_count": 3,
   "metadata": {},
   "outputs": [],
   "source": [
    "report_views = pd.DataFrame({\"orgid\": [\"1\", \"2\", \"1\", \"4\"],\n",
    "                   \"userid\": [\"1\", \"2\", \"2\", \"3\"],\n",
    "                   \"visitdate\": [\"2021-09-28\", \"2021-08-15\", \"2021-08-16\", \"2021-05-17\"]})\n",
    "\n",
    "org_card = pd.DataFrame({\"orgid\": [\"1\", \"2\", \"3\", \"4\"],\n",
    "                   \"status\": [\"Active\", \"Deleted\", \"Active\", \"Active\"],\n",
    "                   \"marketcode\": [\"US\", \"UK\", \"AU\", \"US\"]})\n",
    "\n",
    "\n",
    "user_card = pd.DataFrame({\"userid\": [\"1\", \"2\", \"3\", \"4\"],\n",
    "                   \"practicestaff\": [\"1\", \"0\", \"0\", \"1\"]})\n"
   ]
  },
  {
   "cell_type": "code",
   "execution_count": 4,
   "metadata": {},
   "outputs": [],
   "source": [
    "q=\"\"\"\n",
    "    SELECT  *,\n",
    "            SUM(CASE WHEN PracStaff > 0 AND NonPracStaff > 0 Then 1 ELSE 0 END) AS '#Mixed'\n",
    "    FROM (\n",
    "        SELECT  strftime('%m',report_views.visitdate) AS 'Month',\n",
    "                SUM(CASE WHEN user_card.practicestaff = 1 THEN 1 ELSE 0 END) AS 'PracStaff',\n",
    "                SUM(CASE WHEN user_card.practicestaff = 0 THEN 1 ELSE 0 END) AS 'NonPracStaff'\n",
    "        FROM    report_views, org_card, user_card   \n",
    "        WHERE   org_card.marketcode = \"US\"\n",
    "            AND org_card.orgid = report_views.orgid\n",
    "            AND user_card.userid = report_views.userid\n",
    "            AND org_card.status =\"Active\"\n",
    "            AND report_views.visitdate > '2020-12-31'\n",
    "        GROUP BY strftime('%m',report_views.visitdate)\n",
    "    ) \n",
    "\"\"\"\n",
    "    \n"
   ]
  },
  {
   "cell_type": "code",
   "execution_count": 5,
   "metadata": {},
   "outputs": [
    {
     "data": {
      "text/html": [
       "<div>\n",
       "<style scoped>\n",
       "    .dataframe tbody tr th:only-of-type {\n",
       "        vertical-align: middle;\n",
       "    }\n",
       "\n",
       "    .dataframe tbody tr th {\n",
       "        vertical-align: top;\n",
       "    }\n",
       "\n",
       "    .dataframe thead th {\n",
       "        text-align: right;\n",
       "    }\n",
       "</style>\n",
       "<table border=\"1\" class=\"dataframe\">\n",
       "  <thead>\n",
       "    <tr style=\"text-align: right;\">\n",
       "      <th></th>\n",
       "      <th>Month</th>\n",
       "      <th>PracStaff</th>\n",
       "      <th>NonPracStaff</th>\n",
       "      <th>#Mixed</th>\n",
       "    </tr>\n",
       "  </thead>\n",
       "  <tbody>\n",
       "    <tr>\n",
       "      <th>0</th>\n",
       "      <td>05</td>\n",
       "      <td>0</td>\n",
       "      <td>1</td>\n",
       "      <td>0</td>\n",
       "    </tr>\n",
       "  </tbody>\n",
       "</table>\n",
       "</div>"
      ],
      "text/plain": [
       "  Month  PracStaff  NonPracStaff  #Mixed\n",
       "0    05          0             1       0"
      ]
     },
     "execution_count": 5,
     "metadata": {},
     "output_type": "execute_result"
    }
   ],
   "source": [
    "joined = pysqldf(q)\n",
    "joined"
   ]
  }
 ],
 "metadata": {
  "interpreter": {
   "hash": "ebb82aa2c10136997439f02c41a80c3bd9bcb94eb211b0088a6341883261a879"
  },
  "kernelspec": {
   "display_name": "Python 3.8.13 ('venv38xeropia')",
   "language": "python",
   "name": "python3"
  },
  "language_info": {
   "codemirror_mode": {
    "name": "ipython",
    "version": 3
   },
   "file_extension": ".py",
   "mimetype": "text/x-python",
   "name": "python",
   "nbconvert_exporter": "python",
   "pygments_lexer": "ipython3",
   "version": "3.8.13"
  },
  "orig_nbformat": 4
 },
 "nbformat": 4,
 "nbformat_minor": 2
}
